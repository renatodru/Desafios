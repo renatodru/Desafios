{
 "cells": [
  {
   "cell_type": "code",
   "execution_count": 19,
   "metadata": {},
   "outputs": [],
   "source": [
    "from math import sqrt, ceil, pow\n",
    "import numpy as np\n",
    "\n",
    "class SieveOfAtkin:\n",
    "\tdef __init__(self, limit):\n",
    "\t\tself.limit = limit\t\t\n",
    "\t\tself.primes = []\t\n",
    "\t\tself.sieve = [False]*(self.limit+1)\n",
    "\tdef flip(self, prime):\n",
    "\t\ttry:self.sieve[prime] = not self.sieve[prime]\n",
    "\t\texcept KeyError:pass\n",
    "\tdef invalidate(self, prime):\n",
    "\t\ttry:\n",
    "\t\t\tif self.sieve[prime]:self.sieve[prime] = False\n",
    "\t\texcept KeyError:pass\n",
    "\tdef isPrime(self, prime):\n",
    "\t\ttry:return self.sieve[prime]\n",
    "\t\texcept KeyError:return False\n",
    "\tdef getPrimes(self):\t\t\t\n",
    "\t\ttestingLimit = int(ceil(sqrt(self.limit)))\n",
    "\t\tfor i in range(testingLimit):\n",
    "\t\t\tfor j in range(testingLimit):\n",
    "\t\t\t\tn = 4*int(pow(i, 2)) + int(pow(j,2))\n",
    "\t\t\t\tif n <= self.limit and (n % 12 == 1 or n % 12 == 5):self.flip(n)\n",
    "\t\t\t\tn = 3*int(pow(i, 2)) + int(pow(j,2))\n",
    "\t\t\t\tif n <= self.limit and n % 12 == 7:self.flip(n)\n",
    "\t\t\t\tn = 3*int(pow(i, 2)) - int(pow(j,2))\n",
    "\t\t\t\tif n <= self.limit and i > j and n % 12 == 11:self.flip(n)\n",
    "\t\tfor i in range(5, testingLimit):\t\t\t\n",
    "\t\t\tif self.isPrime(i):\n",
    "\t\t\t\tk = int(pow(i, 2))\n",
    "\t\t\t\tfor j in range(k, self.limit+1, k):self.invalidate(j)\t\t\t\t\t\t\t\n",
    "\t\tself.primes = [2, 3] + [x for x in range(len(self.sieve)) if self.isPrime(x) and x>=5]\n",
    "\t\treturn self.primes"
   ]
  },
  {
   "cell_type": "code",
   "execution_count": 20,
   "metadata": {},
   "outputs": [
    {
     "name": "stdout",
     "output_type": "stream",
     "text": [
      "[2, 3, 5, 7, 11, 13, 17, 19, 23, 29, 31, 37, 41, 43, 47, 53, 59, 61, 67, 71, 73, 79, 83, 89, 97]\n"
     ]
    }
   ],
   "source": [
    "pri = SieveOfAtkin(100)\n",
    "\n",
    "print(pri.getPrimes())"
   ]
  },
  {
   "cell_type": "code",
   "execution_count": 2,
   "metadata": {},
   "outputs": [],
   "source": [
    "\n",
    "digitos = 3\n",
    "primos = SieveOfAtkin((10**digitos)-1).getPrimes()\n",
    "primos_info = np.dstack((np.round(np.sqrt(np.outer(primos, primos)),5),\n",
    "                         np.outer(primos, primos),\n",
    "                         np.tile(np.array(primos), (len(primos),1)),\n",
    "                         np.tile(np.array(primos), (len(primos),1)).transpose()))"
   ]
  },
  {
   "cell_type": "code",
   "execution_count": 3,
   "metadata": {},
   "outputs": [],
   "source": [
    "RSA_1 = 137\n",
    "RSA_2 = 797\n",
    "RSA = RSA_1 * RSA_2"
   ]
  },
  {
   "cell_type": "code",
   "execution_count": 4,
   "metadata": {},
   "outputs": [],
   "source": [
    "RSA_raiz = int(sqrt(RSA))\n",
    "RSA_raiz_verif = int(str(RSA_raiz)[:digitos])"
   ]
  },
  {
   "cell_type": "code",
   "execution_count": 8,
   "metadata": {},
   "outputs": [],
   "source": [
    "select = np.empty(shape=(1,2,4))\n",
    "for v,vetor in enumerate(primos_info):\n",
    "    for i in range(1,len(vetor)):\n",
    "        if(vetor[i-1][0]<=RSA_raiz_verif and vetor[i][0]>=RSA_raiz_verif):\n",
    "            select = np.vstack((select, np.column_stack((vetor[i-1].reshape(1,1,4), vetor[i].reshape(1,1,4)))))"
   ]
  },
  {
   "cell_type": "code",
   "execution_count": null,
   "metadata": {},
   "outputs": [],
   "source": []
  }
 ],
 "metadata": {
  "kernelspec": {
   "display_name": "Python 3.10.5 64-bit",
   "language": "python",
   "name": "python3"
  },
  "language_info": {
   "codemirror_mode": {
    "name": "ipython",
    "version": 3
   },
   "file_extension": ".py",
   "mimetype": "text/x-python",
   "name": "python",
   "nbconvert_exporter": "python",
   "pygments_lexer": "ipython3",
   "version": "3.10.5"
  },
  "orig_nbformat": 4,
  "vscode": {
   "interpreter": {
    "hash": "369f2c481f4da34e4445cda3fffd2e751bd1c4d706f27375911949ba6bb62e1c"
   }
  }
 },
 "nbformat": 4,
 "nbformat_minor": 2
}
