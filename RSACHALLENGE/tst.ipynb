{
 "cells": [
  {
   "cell_type": "code",
   "execution_count": 25,
   "metadata": {},
   "outputs": [],
   "source": [
    "from math import sqrt, ceil, pow\n",
    "import numpy as np\n",
    "\n",
    "class SieveOfAtkin:\n",
    "\tdef __init__(self, limit):\n",
    "\t\tself.limit = limit\t\t\n",
    "\t\tself.primes = []\t\n",
    "\t\tself.sieve = [False]*(self.limit+1)\n",
    "\tdef flip(self, prime):\n",
    "\t\ttry:self.sieve[prime] = not self.sieve[prime]\n",
    "\t\texcept KeyError:pass\n",
    "\tdef invalidate(self, prime):\n",
    "\t\ttry:\n",
    "\t\t\tif self.sieve[prime]:self.sieve[prime] = False\n",
    "\t\texcept KeyError:pass\n",
    "\tdef isPrime(self, prime):\n",
    "\t\ttry:return self.sieve[prime]\n",
    "\t\texcept KeyError:return False\n",
    "\tdef getPrimes(self):\t\t\t\n",
    "\t\ttestingLimit = int(ceil(sqrt(self.limit)))\n",
    "\t\tfor i in range(testingLimit):\n",
    "\t\t\tfor j in range(testingLimit):\n",
    "\t\t\t\tn = 4*int(pow(i, 2)) + int(pow(j,2))\n",
    "\t\t\t\tif n <= self.limit and (n % 12 == 1 or n % 12 == 5):self.flip(n)\n",
    "\t\t\t\tn = 3*int(pow(i, 2)) + int(pow(j,2))\n",
    "\t\t\t\tif n <= self.limit and n % 12 == 7:self.flip(n)\n",
    "\t\t\t\tn = 3*int(pow(i, 2)) - int(pow(j,2))\n",
    "\t\t\t\tif n <= self.limit and i > j and n % 12 == 11:self.flip(n)\n",
    "\t\tfor i in range(5, testingLimit):\t\t\t\n",
    "\t\t\tif self.isPrime(i):\n",
    "\t\t\t\tk = int(pow(i, 2))\n",
    "\t\t\t\tfor j in range(k, self.limit+1, k):self.invalidate(j)\t\t\t\t\t\t\t\n",
    "\t\tself.primes = [2, 3] + [x for x in range(len(self.sieve)) if self.isPrime(x) and x>=5]\n",
    "\t\treturn self.primes\n",
    "primos_atkin = SieveOfAtkin(10000000).getPrimes()\n"
   ]
  },
  {
   "cell_type": "code",
   "execution_count": 30,
   "metadata": {},
   "outputs": [
    {
     "ename": "KeyboardInterrupt",
     "evalue": "",
     "output_type": "error",
     "traceback": [
      "\u001b[1;31m---------------------------------------------------------------------------\u001b[0m",
      "\u001b[1;31mKeyboardInterrupt\u001b[0m                         Traceback (most recent call last)",
      "Cell \u001b[1;32mIn[30], line 22\u001b[0m\n\u001b[0;32m     20\u001b[0m             prime_list\u001b[39m.\u001b[39mappend(i)    \n\u001b[0;32m     21\u001b[0m     \u001b[39mreturn\u001b[39;00m prime_list\n\u001b[1;32m---> 22\u001b[0m primos_soe \u001b[39m=\u001b[39m soe(\u001b[39m10\u001b[39;49m\u001b[39m*\u001b[39;49m\u001b[39m*\u001b[39;49m\u001b[39m9\u001b[39;49m)\n",
      "Cell \u001b[1;32mIn[30], line 3\u001b[0m, in \u001b[0;36msoe\u001b[1;34m(n)\u001b[0m\n\u001b[0;32m      1\u001b[0m \u001b[39mdef\u001b[39;00m \u001b[39msoe\u001b[39m(n):\n\u001b[0;32m      2\u001b[0m     \u001b[39m# Inicializa uma lista de booleanos representando se cada número é primo ou não\u001b[39;00m\n\u001b[1;32m----> 3\u001b[0m     primes \u001b[39m=\u001b[39m [\u001b[39mTrue\u001b[39;49;00m \u001b[39mfor\u001b[39;49;00m i \u001b[39min\u001b[39;49;00m \u001b[39mrange\u001b[39;49m(n\u001b[39m+\u001b[39;49m\u001b[39m1\u001b[39;49m)]\n\u001b[0;32m      4\u001b[0m     \u001b[39m#print(f\"1 - {primes}\")\u001b[39;00m\n\u001b[0;32m      5\u001b[0m     \u001b[39m# Define os números 0 e 1 como não primos\u001b[39;00m\n\u001b[0;32m      6\u001b[0m     primes[\u001b[39m0\u001b[39m], primes[\u001b[39m1\u001b[39m] \u001b[39m=\u001b[39m \u001b[39mFalse\u001b[39;00m, \u001b[39mFalse\u001b[39;00m\n",
      "Cell \u001b[1;32mIn[30], line 3\u001b[0m, in \u001b[0;36m<listcomp>\u001b[1;34m(.0)\u001b[0m\n\u001b[0;32m      1\u001b[0m \u001b[39mdef\u001b[39;00m \u001b[39msoe\u001b[39m(n):\n\u001b[0;32m      2\u001b[0m     \u001b[39m# Inicializa uma lista de booleanos representando se cada número é primo ou não\u001b[39;00m\n\u001b[1;32m----> 3\u001b[0m     primes \u001b[39m=\u001b[39m [\u001b[39mTrue\u001b[39;00m \u001b[39mfor\u001b[39;00m i \u001b[39min\u001b[39;00m \u001b[39mrange\u001b[39m(n\u001b[39m+\u001b[39m\u001b[39m1\u001b[39m)]\n\u001b[0;32m      4\u001b[0m     \u001b[39m#print(f\"1 - {primes}\")\u001b[39;00m\n\u001b[0;32m      5\u001b[0m     \u001b[39m# Define os números 0 e 1 como não primos\u001b[39;00m\n\u001b[0;32m      6\u001b[0m     primes[\u001b[39m0\u001b[39m], primes[\u001b[39m1\u001b[39m] \u001b[39m=\u001b[39m \u001b[39mFalse\u001b[39;00m, \u001b[39mFalse\u001b[39;00m\n",
      "\u001b[1;31mKeyboardInterrupt\u001b[0m: "
     ]
    }
   ],
   "source": [
    "def soe(n):\n",
    "    # Inicializa uma lista de booleanos representando se cada número é primo ou não\n",
    "    primes = [True for i in range(n+1)]\n",
    "    #print(f\"1 - {primes}\")\n",
    "    # Define os números 0 e 1 como não primos\n",
    "    primes[0], primes[1] = False, False\n",
    "    #print(f\"2 - {primes}\")\n",
    "    # Percorre a lista de 2 até a raiz quadrada de n\n",
    "    for i in range(2, int(n**0.5)+1):\n",
    "        # Se o número atual é primo\n",
    "        if primes[i]:\n",
    "            # Marca todos os múltiplos do número atual como não primos\n",
    "            for j in range(i*i, n+1, i):\n",
    "                primes[j] = False\n",
    "    #print(f\"3 - {primes}\")\n",
    "    # Cria uma lista com todos os números primos encontrados\n",
    "    prime_list = []\n",
    "    for i in range(n+1):\n",
    "        if primes[i]:\n",
    "            prime_list.append(i)    \n",
    "    return prime_list\n",
    "primos_soe = soe(10**9)\n"
   ]
  },
  {
   "cell_type": "code",
   "execution_count": null,
   "metadata": {},
   "outputs": [],
   "source": [
    "primos = SieveOfAtkin(100)\n",
    "\n",
    "print(primos.getPrimes())"
   ]
  },
  {
   "cell_type": "code",
   "execution_count": null,
   "metadata": {},
   "outputs": [],
   "source": [
    "\n",
    "digitos = 3\n",
    "primos = SieveOfAtkin((10**digitos)-1).getPrimes()\n",
    "primos_info = np.dstack((np.round(np.sqrt(np.outer(primos, primos)),5),\n",
    "                         np.outer(primos, primos),\n",
    "                         np.tile(np.array(primos), (len(primos),1)),\n",
    "                         np.tile(np.array(primos), (len(primos),1)).transpose()))"
   ]
  },
  {
   "cell_type": "code",
   "execution_count": null,
   "metadata": {},
   "outputs": [],
   "source": [
    "rsa=int(\"bdbbd27309fc78576ef48a2ed1fd835f9a35c4b23ab4191d476fc54245a04c588af1c7b600c5009bcc064b58afa126aa49eca0c7dc02a92b1750b833172e85226e88290494fc11f1fd3e78e788e5\",16)\n",
    "#imprime rsa em decimal\n",
    "print(len(str(rsa)))\n",
    "RSA_1 = 137\n",
    "RSA_2 = 797\n",
    "#RSA = RSA_1 * RSA_2"
   ]
  },
  {
   "cell_type": "code",
   "execution_count": null,
   "metadata": {},
   "outputs": [],
   "source": [
    "RSA_raiz = int(sqrt(RSA))\n",
    "RSA_raiz_verif = int(str(RSA_raiz)[:digitos])"
   ]
  },
  {
   "cell_type": "code",
   "execution_count": null,
   "metadata": {},
   "outputs": [],
   "source": [
    "select = np.empty(shape=(1,2,4))\n",
    "for v,vetor in enumerate(primos_info):\n",
    "    for i in range(1,len(vetor)):\n",
    "        if(vetor[i-1][0]<=RSA_raiz_verif and vetor[i][0]>=RSA_raiz_verif):\n",
    "            select = np.vstack((select, np.column_stack((vetor[i-1].reshape(1,1,4), vetor[i].reshape(1,1,4)))))"
   ]
  },
  {
   "cell_type": "code",
   "execution_count": null,
   "metadata": {},
   "outputs": [],
   "source": []
  }
 ],
 "metadata": {
  "kernelspec": {
   "display_name": "Python 3",
   "language": "python",
   "name": "python3"
  },
  "language_info": {
   "codemirror_mode": {
    "name": "ipython",
    "version": 3
   },
   "file_extension": ".py",
   "mimetype": "text/x-python",
   "name": "python",
   "nbconvert_exporter": "python",
   "pygments_lexer": "ipython3",
   "version": "3.10.6"
  },
  "orig_nbformat": 4,
  "vscode": {
   "interpreter": {
    "hash": "e7370f93d1d0cde622a1f8e1c04877d8463912d04d973331ad4851f04de6915a"
   }
  }
 },
 "nbformat": 4,
 "nbformat_minor": 2
}
