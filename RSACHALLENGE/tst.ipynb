{
 "cells": [
  {
   "cell_type": "code",
   "execution_count": 1,
   "metadata": {},
   "outputs": [],
   "source": [
    "import math\n",
    "from math import sqrt, ceil, pow\n",
    "import numpy as np\n",
    "\n",
    "class SieveOfAtkin:\n",
    "\tdef __init__(self, limit):\n",
    "\t\tself.limit = limit\t\t\n",
    "\t\tself.primes = []\t\n",
    "\t\tself.sieve = [False]*(self.limit+1)\t\n",
    "\tdef flip(self, prime):\n",
    "\t\ttry:self.sieve[prime] = not self.sieve[prime]\n",
    "\t\texcept KeyError:pass\n",
    "\tdef invalidate(self, prime):\n",
    "\t\ttry:\n",
    "\t\t\tif self.sieve[prime]:self.sieve[prime] = False\n",
    "\t\texcept KeyError:pass\n",
    "\tdef isPrime(self, prime):\n",
    "\t\ttry:return self.sieve[prime]\n",
    "\t\texcept KeyError:return False\n",
    "\tdef getPrimes(self):\t\t\t\n",
    "\t\ttestingLimit = int(ceil(sqrt(self.limit)))\n",
    "\t\tfor i in range(testingLimit):\n",
    "\t\t\tfor j in range(testingLimit):\n",
    "\t\t\t\tn = 4*int(pow(i, 2)) + int(pow(j,2))\n",
    "\t\t\t\tif n <= self.limit and (n % 12 == 1 or n % 12 == 5):self.flip(n)\n",
    "\t\t\t\tn = 3*int(pow(i, 2)) + int(pow(j,2))\n",
    "\t\t\t\tif n <= self.limit and n % 12 == 7:self.flip(n)\n",
    "\t\t\t\tn = 3*int(pow(i, 2)) - int(pow(j,2))\n",
    "\t\t\t\tif n <= self.limit and i > j and n % 12 == 11:self.flip(n)\n",
    "\t\tfor i in range(5, testingLimit):\t\t\t\n",
    "\t\t\tif self.isPrime(i):\n",
    "\t\t\t\tk = int(pow(i, 2))\n",
    "\t\t\t\tfor j in range(k, self.limit+1, k):self.invalidate(j)\t\t\t\t\t\t\t\n",
    "\t\tself.primes = [1, 2, 3] + [x for x in range(len(self.sieve)) if self.isPrime(x) and x>=5]\n",
    "\t\treturn self.primes"
   ]
  },
  {
   "cell_type": "code",
   "execution_count": 2,
   "metadata": {},
   "outputs": [],
   "source": [
    "digitos = 2\n",
    "primos = SieveOfAtkin((10**digitos)-1).getPrimes()\n",
    "primos_info = np.dstack((np.round(np.sqrt(np.outer(primos, primos)),5),\n",
    "                         np.outer(primos, primos),\n",
    "                         np.tile(np.array(primos), (len(primos),1)),\n",
    "                         np.tile(np.array(primos), (len(primos),1)).transpose()))"
   ]
  },
  {
   "cell_type": "code",
   "execution_count": 3,
   "metadata": {},
   "outputs": [],
   "source": [
    "RSA_1 = 137\n",
    "RSA_2 = 797\n",
    "RSA = RSA_1 * RSA_2"
   ]
  },
  {
   "cell_type": "code",
   "execution_count": 4,
   "metadata": {},
   "outputs": [],
   "source": [
    "RSA_raiz = int(math.sqrt(RSA))\n",
    "RSA_raiz_verif = int(str(RSA_raiz)[:digitos])"
   ]
  },
  {
   "cell_type": "code",
   "execution_count": 5,
   "metadata": {},
   "outputs": [
    {
     "name": "stdout",
     "output_type": "stream",
     "text": [
      "(4,)\n"
     ]
    },
    {
     "ename": "TypeError",
     "evalue": "only integer scalar arrays can be converted to a scalar index",
     "output_type": "error",
     "traceback": [
      "\u001b[1;31m---------------------------------------------------------------------------\u001b[0m",
      "\u001b[1;31mTypeError\u001b[0m                                 Traceback (most recent call last)",
      "\u001b[1;32md:\\github\\renatodru\\Desafios\\RSACHALLENGE\\tst.ipynb Célula: 5\u001b[0m in \u001b[0;36m<cell line: 3>\u001b[1;34m()\u001b[0m\n\u001b[0;32m      <a href='vscode-notebook-cell:/d%3A/github/renatodru/Desafios/RSACHALLENGE/tst.ipynb#W4sZmlsZQ%3D%3D?line=5'>6</a>\u001b[0m         \u001b[39m#print(vetor[i][0],vetor[i-1][0]<=RSA_raiz_verif and vetor[i][0]>=RSA_raiz_verif)\u001b[39;00m\n\u001b[0;32m      <a href='vscode-notebook-cell:/d%3A/github/renatodru/Desafios/RSACHALLENGE/tst.ipynb#W4sZmlsZQ%3D%3D?line=6'>7</a>\u001b[0m         \u001b[39mif\u001b[39;00m(vetor[i\u001b[39m-\u001b[39m\u001b[39m1\u001b[39m][\u001b[39m0\u001b[39m]\u001b[39m<\u001b[39m\u001b[39m=\u001b[39mRSA_raiz_verif \u001b[39mand\u001b[39;00m vetor[i][\u001b[39m0\u001b[39m]\u001b[39m>\u001b[39m\u001b[39m=\u001b[39mRSA_raiz_verif):\n\u001b[1;32m----> <a href='vscode-notebook-cell:/d%3A/github/renatodru/Desafios/RSACHALLENGE/tst.ipynb#W4sZmlsZQ%3D%3D?line=7'>8</a>\u001b[0m                 select \u001b[39m=\u001b[39m np\u001b[39m.\u001b[39;49mstack(select, vetor[i\u001b[39m-\u001b[39;49m\u001b[39m1\u001b[39;49m], vetor[i])\n\u001b[0;32m     <a href='vscode-notebook-cell:/d%3A/github/renatodru/Desafios/RSACHALLENGE/tst.ipynb#W4sZmlsZQ%3D%3D?line=10'>11</a>\u001b[0m \u001b[39mprint\u001b[39m(select)\n",
      "File \u001b[1;32m<__array_function__ internals>:180\u001b[0m, in \u001b[0;36mstack\u001b[1;34m(*args, **kwargs)\u001b[0m\n",
      "File \u001b[1;32mc:\\Python310\\lib\\site-packages\\numpy\\core\\shape_base.py:429\u001b[0m, in \u001b[0;36mstack\u001b[1;34m(arrays, axis, out)\u001b[0m\n\u001b[0;32m    426\u001b[0m     \u001b[39mraise\u001b[39;00m \u001b[39mValueError\u001b[39;00m(\u001b[39m'\u001b[39m\u001b[39mall input arrays must have the same shape\u001b[39m\u001b[39m'\u001b[39m)\n\u001b[0;32m    428\u001b[0m result_ndim \u001b[39m=\u001b[39m arrays[\u001b[39m0\u001b[39m]\u001b[39m.\u001b[39mndim \u001b[39m+\u001b[39m \u001b[39m1\u001b[39m\n\u001b[1;32m--> 429\u001b[0m axis \u001b[39m=\u001b[39m normalize_axis_index(axis, result_ndim)\n\u001b[0;32m    431\u001b[0m sl \u001b[39m=\u001b[39m (\u001b[39mslice\u001b[39m(\u001b[39mNone\u001b[39;00m),) \u001b[39m*\u001b[39m axis \u001b[39m+\u001b[39m (_nx\u001b[39m.\u001b[39mnewaxis,)\n\u001b[0;32m    432\u001b[0m expanded_arrays \u001b[39m=\u001b[39m [arr[sl] \u001b[39mfor\u001b[39;00m arr \u001b[39min\u001b[39;00m arrays]\n",
      "\u001b[1;31mTypeError\u001b[0m: only integer scalar arrays can be converted to a scalar index"
     ]
    }
   ],
   "source": [
    "select = np.empty(shape=(4))\n",
    "print(np.shape(primos_info[1][1]))\n",
    "for v,vetor in enumerate(primos_info):\n",
    "    for i in range(len(vetor)):\n",
    "        if i == 0:continue\n",
    "        #print(vetor[i][0],vetor[i-1][0]<=RSA_raiz_verif and vetor[i][0]>=RSA_raiz_verif)\n",
    "        if(vetor[i-1][0]<=RSA_raiz_verif and vetor[i][0]>=RSA_raiz_verif):\n",
    "                select = np.stack(select, vetor[i-1], vetor[i])\n",
    "\n",
    "\n",
    "print(select)"
   ]
  }
 ],
 "metadata": {
  "kernelspec": {
   "display_name": "Python 3.10.5 64-bit",
   "language": "python",
   "name": "python3"
  },
  "language_info": {
   "codemirror_mode": {
    "name": "ipython",
    "version": 3
   },
   "file_extension": ".py",
   "mimetype": "text/x-python",
   "name": "python",
   "nbconvert_exporter": "python",
   "pygments_lexer": "ipython3",
   "version": "3.10.5"
  },
  "orig_nbformat": 4,
  "vscode": {
   "interpreter": {
    "hash": "369f2c481f4da34e4445cda3fffd2e751bd1c4d706f27375911949ba6bb62e1c"
   }
  }
 },
 "nbformat": 4,
 "nbformat_minor": 2
}
