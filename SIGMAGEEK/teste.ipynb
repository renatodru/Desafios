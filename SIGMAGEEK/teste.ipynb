{
 "cells": [
  {
   "cell_type": "code",
   "execution_count": null,
   "metadata": {},
   "outputs": [],
   "source": [
    "import datetime\n",
    "import math\n",
    "import sympy\n",
    "\n",
    "# def is_prime(n):\n",
    "#     for i in range(3, int(math.sqrt(n)) + 1, 2):\n",
    "#         if n % i == 0:\n",
    "#             return False\n",
    "#     return True\n",
    "\n",
    "def gera_primos_21dg():\n",
    "#   100_000_000_010_000_000_001\n",
    "    primos =[]\n",
    "    extrem = [1,3,7,9]\n",
    "    x = 0\n",
    "    for ex in extrem:\n",
    "        for center in range (0,10):\n",
    "            inicio = datetime.datetime.now()\n",
    "            for laterall in range(0, 999_999_999):\n",
    "                lateral = str(laterall).zfill(9)\n",
    "                teste = int(str(ex)+lateral[::-1]+str(center)+lateral+str(ex))\n",
    "                if teste%3 == 0:continue\n",
    "                if sympy.isprime(teste):\n",
    "                    primos.append(teste)\n",
    "            print(datetime.datetime.now()-inicio,len(primos))\n",
    "                \n",
    "    return primos\n",
    "\n",
    "gera_primos_21dg()"
   ]
  },
  {
   "cell_type": "code",
   "execution_count": null,
   "metadata": {},
   "outputs": [],
   "source": [
    "pi = [100404001, 100656001, 100707001, 100767001, 100888001, 100999001, 101030101, 101060101, 101141101, 101171101,\n",
    "      101282101, 101292101, 101343101, 101373101, 101414101, 101424101, 101474101, 101595101, 101616101, 101717101,\n",
    "      101777101, 101838101, 101898101, 101919101, 101949101, 101999101, 102040201, 102070201, 102202201, 102232201,\n",
    "      102272201, 102343201, 102383201, 102454201, 102484201, 102515201, 102676201, 102686201, 102707201, 102808201,\n",
    "      102838201, 103000301, 103060301, 103161301, 103212301, 103282301, 103303301, 103323301, 103333301, 103363301]"
   ]
  },
  {
   "cell_type": "code",
   "execution_count": 20,
   "metadata": {},
   "outputs": [
    {
     "name": "stdout",
     "output_type": "stream",
     "text": [
      "0:00:14.187491\n",
      "20000\n"
     ]
    }
   ],
   "source": [
    "import requests\n",
    "import datetime\n",
    "start = 1\n",
    "numberOfDigits = 1000\n",
    "ciclos = 20\n",
    "\n",
    "\n",
    "pi = ''\n",
    "inicio = datetime.datetime.now()\n",
    "for start in range(0, ciclos):\n",
    "    pi += requests.get(f'https://api.pi.delivery/v1/pi?start={start*10**3}&numberOfDigits={numberOfDigits}').json()['content']\n",
    "print(datetime.datetime.now()-inicio)\n",
    "print(len(pi))"
   ]
  },
  {
   "cell_type": "code",
   "execution_count": 1,
   "metadata": {},
   "outputs": [],
   "source": [
    "import math\n",
    "import datetime\n",
    "import sympy\n",
    "\n",
    "n = 203956878356401977405765866929034577280193993314348263094772646453283062722701277632936616063144088173312372882677123879538709400158306567338328279154499698366071906766440037074217117805690872792848149112022286332144876183376326512083574821647933992961249917319836219304274280243803104015000563790123"
   ]
  },
  {
   "cell_type": "code",
   "execution_count": 2,
   "metadata": {},
   "outputs": [],
   "source": [
    "# Python3 program Miller-Rabin primality test\n",
    "import random\n",
    " \n",
    "# Utility function to do\n",
    "# modular exponentiation.\n",
    "# It returns (x^y) % p\n",
    "def power(x, y, p):\n",
    "     \n",
    "    # Initialize result\n",
    "    res = 1;\n",
    "     \n",
    "    # Update x if it is more than or\n",
    "    # equal to p\n",
    "    x = x % p;\n",
    "    while (y > 0):\n",
    "         \n",
    "        # If y is odd, multiply\n",
    "        # x with result\n",
    "        if (y & 1):\n",
    "            res = (res * x) % p;\n",
    " \n",
    "        # y must be even now\n",
    "        y = y>>1; # y = y/2\n",
    "        x = (x * x) % p;\n",
    "     \n",
    "    return res;\n",
    " \n",
    "# This function is called\n",
    "# for all k trials. It returns\n",
    "# false if n is composite and\n",
    "# returns false if n is\n",
    "# probably prime. d is an odd\n",
    "# number such that d*2<sup>r</sup> = n-1\n",
    "# for some r >= 1\n",
    "def miillerTest(d, n):\n",
    "     \n",
    "    # Pick a random number in [2..n-2]\n",
    "    # Corner cases make sure that n > 4\n",
    "    a = 2 + random.randint(1, n - 4);\n",
    " \n",
    "    # Compute a^d % n\n",
    "    x = power(a, d, n);\n",
    " \n",
    "    if (x == 1 or x == n - 1):\n",
    "        return True;\n",
    " \n",
    "    # Keep squaring x while one\n",
    "    # of the following doesn't\n",
    "    # happen\n",
    "    # (i) d does not reach n-1\n",
    "    # (ii) (x^2) % n is not 1\n",
    "    # (iii) (x^2) % n is not n-1\n",
    "    while (d != n - 1):\n",
    "        x = (x * x) % n;\n",
    "        d *= 2;\n",
    " \n",
    "        if (x == 1):\n",
    "            return False;\n",
    "        if (x == n - 1):\n",
    "            return True;\n",
    " \n",
    "    # Return composite\n",
    "    return False;\n",
    " \n",
    "# It returns false if n is\n",
    "# composite and returns true if n\n",
    "# is probably prime. k is an\n",
    "# input parameter that determines\n",
    "# accuracy level. Higher value of\n",
    "# k indicates more accuracy.\n",
    "def isPrime3( n, k):\n",
    "     \n",
    "    # Corner cases\n",
    "    if (n <= 1 or n == 4):\n",
    "        return False;\n",
    "    if (n <= 3):\n",
    "        return True;\n",
    " \n",
    "    # Find r such that n =\n",
    "    # 2^d * r + 1 for some r >= 1\n",
    "    d = n - 1;\n",
    "    while (d % 2 == 0):\n",
    "        d //= 2;\n",
    " \n",
    "    # Iterate given number of 'k' times\n",
    "    for i in range(k):\n",
    "        if (miillerTest(d, n) == False):\n",
    "            return False;\n",
    " \n",
    "    return True;\n",
    " \n",
    "# Driver Code\n",
    "# Number of iterations\n",
    "# k = 4;\n",
    " \n",
    "# print(\"All primes smaller than 100: \");\n",
    "# for n in range(1,100):\n",
    "#     if (isPrime3(n, k)):\n",
    "#         print(n , end=\" \");\n",
    " \n",
    "# This code is contributed by mits"
   ]
  },
  {
   "cell_type": "code",
   "execution_count": 9,
   "metadata": {},
   "outputs": [
    {
     "name": "stdout",
     "output_type": "stream",
     "text": [
      "4.516158526407172e+149\n",
      "150\n",
      "True\n",
      "0:00:00.007998\n",
      "True\n",
      "0:00:00.009000\n",
      "False\n",
      "0:00:00.004002\n"
     ]
    }
   ],
   "source": [
    "print(n**0.5)\n",
    "print(len(str(int(n**0.5)+1)))\n",
    "\n",
    "inicio = datetime.datetime.now()\n",
    "print(sympy.isprime(n))\n",
    "print(datetime.datetime.now()-inicio)\n",
    "\n",
    "inicio = datetime.datetime.now()\n",
    "print(sympy.ntheory.primetest.isprime(n))\n",
    "print(datetime.datetime.now()-inicio)\n",
    "\n",
    "inicio = datetime.datetime.now()\n",
    "print(isPrime3(n-1,1))\n",
    "print(datetime.datetime.now()-inicio)\n",
    "\n"
   ]
  },
  {
   "cell_type": "code",
   "execution_count": null,
   "metadata": {},
   "outputs": [],
   "source": []
  }
 ],
 "metadata": {
  "kernelspec": {
   "display_name": "Python 3.10.4 64-bit",
   "language": "python",
   "name": "python3"
  },
  "language_info": {
   "codemirror_mode": {
    "name": "ipython",
    "version": 3
   },
   "file_extension": ".py",
   "mimetype": "text/x-python",
   "name": "python",
   "nbconvert_exporter": "python",
   "pygments_lexer": "ipython3",
   "version": "3.10.4"
  },
  "orig_nbformat": 4,
  "vscode": {
   "interpreter": {
    "hash": "916dbcbb3f70747c44a77c7bcd40155683ae19c65e1c03b4aa3499c5328201f1"
   }
  }
 },
 "nbformat": 4,
 "nbformat_minor": 2
}
